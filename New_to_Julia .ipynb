{
 "cells": [
  {
   "cell_type": "markdown",
   "id": "7b290c3a",
   "metadata": {},
   "source": [
    "**Intro to Julia**"
   ]
  },
  {
   "cell_type": "code",
   "execution_count": 14,
   "id": "0dedaac3",
   "metadata": {},
   "outputs": [
    {
     "data": {
      "text/plain": [
       "2"
      ]
     },
     "execution_count": 14,
     "metadata": {},
     "output_type": "execute_result"
    }
   ],
   "source": [
    "1+1"
   ]
  },
  {
   "cell_type": "code",
   "execution_count": 15,
   "id": "f9c83958",
   "metadata": {},
   "outputs": [
    {
     "name": "stdout",
     "output_type": "stream",
     "text": [
      "Hello,World!\n"
     ]
    }
   ],
   "source": [
    "println(\"Hello,World!\")"
   ]
  },
  {
   "cell_type": "code",
   "execution_count": 16,
   "id": "deba2187",
   "metadata": {},
   "outputs": [
    {
     "data": {
      "text/plain": [
       "123"
      ]
     },
     "execution_count": 16,
     "metadata": {},
     "output_type": "execute_result"
    }
   ],
   "source": [
    "n = 123"
   ]
  },
  {
   "cell_type": "code",
   "execution_count": 17,
   "id": "e6518078",
   "metadata": {},
   "outputs": [
    {
     "data": {
      "text/plain": [
       "Int64"
      ]
     },
     "execution_count": 17,
     "metadata": {},
     "output_type": "execute_result"
    }
   ],
   "source": [
    "typeof(n)"
   ]
  },
  {
   "cell_type": "code",
   "execution_count": 18,
   "id": "a1e4d6bd",
   "metadata": {},
   "outputs": [
    {
     "data": {
      "text/plain": [
       "3.1316"
      ]
     },
     "execution_count": 18,
     "metadata": {},
     "output_type": "execute_result"
    }
   ],
   "source": [
    "π₁= 3.1316"
   ]
  },
  {
   "cell_type": "code",
   "execution_count": 19,
   "id": "9b837ef2",
   "metadata": {},
   "outputs": [
    {
     "data": {
      "text/plain": [
       "Float64"
      ]
     },
     "execution_count": 19,
     "metadata": {},
     "output_type": "execute_result"
    }
   ],
   "source": [
    "typeof(π₁)"
   ]
  },
  {
   "cell_type": "code",
   "execution_count": 22,
   "id": "8be90326",
   "metadata": {},
   "outputs": [
    {
     "name": "stdout",
     "output_type": "stream",
     "text": [
      "apple\n"
     ]
    }
   ],
   "source": [
    "🍎 =\"apple\"\n",
    "println(🍎)"
   ]
  },
  {
   "cell_type": "code",
   "execution_count": 23,
   "id": "915fa601",
   "metadata": {},
   "outputs": [
    {
     "data": {
      "text/plain": [
       "String"
      ]
     },
     "execution_count": 23,
     "metadata": {},
     "output_type": "execute_result"
    }
   ],
   "source": [
    "typeof(🍎)"
   ]
  },
  {
   "cell_type": "code",
   "execution_count": 24,
   "id": "3758127e",
   "metadata": {},
   "outputs": [
    {
     "data": {
      "text/plain": [
       "Bool"
      ]
     },
     "execution_count": 24,
     "metadata": {},
     "output_type": "execute_result"
    }
   ],
   "source": [
    "typeof(1==1)"
   ]
  },
  {
   "cell_type": "code",
   "execution_count": 25,
   "id": "e5456220",
   "metadata": {},
   "outputs": [
    {
     "data": {
      "text/plain": [
       "10.0"
      ]
     },
     "execution_count": 25,
     "metadata": {},
     "output_type": "execute_result"
    }
   ],
   "source": [
    "100/10"
   ]
  },
  {
   "cell_type": "code",
   "execution_count": 26,
   "id": "c5525b3e",
   "metadata": {},
   "outputs": [
    {
     "data": {
      "text/plain": [
       "Rational{Int64}"
      ]
     },
     "execution_count": 26,
     "metadata": {},
     "output_type": "execute_result"
    }
   ],
   "source": [
    "typeof(100//10)"
   ]
  },
  {
   "cell_type": "code",
   "execution_count": 29,
   "id": "dcbea43c",
   "metadata": {},
   "outputs": [
    {
     "data": {
      "text/plain": [
       "9"
      ]
     },
     "execution_count": 29,
     "metadata": {},
     "output_type": "execute_result"
    }
   ],
   "source": [
    "100%13"
   ]
  },
  {
   "cell_type": "code",
   "execution_count": 30,
   "id": "253a0b39",
   "metadata": {},
   "outputs": [
    {
     "data": {
      "text/plain": [
       "Int32"
      ]
     },
     "execution_count": 30,
     "metadata": {},
     "output_type": "execute_result"
    }
   ],
   "source": [
    "typeof(convert(Int32,100))"
   ]
  },
  {
   "cell_type": "code",
   "execution_count": 31,
   "id": "9558a05f",
   "metadata": {},
   "outputs": [
    {
     "data": {
      "text/plain": [
       "Int16"
      ]
     },
     "execution_count": 31,
     "metadata": {},
     "output_type": "execute_result"
    }
   ],
   "source": [
    "typeof(convert(Int16,100))"
   ]
  },
  {
   "cell_type": "code",
   "execution_count": 34,
   "id": "c2ed2a4c",
   "metadata": {},
   "outputs": [],
   "source": [
    "# ?convert find information"
   ]
  },
  {
   "cell_type": "code",
   "execution_count": 36,
   "id": "637e8c1f",
   "metadata": {},
   "outputs": [],
   "source": [
    "# @doc println find information"
   ]
  },
  {
   "cell_type": "code",
   "execution_count": 37,
   "id": "0d69a92f",
   "metadata": {},
   "outputs": [],
   "source": [
    "#= multiple lines for comments\n",
    "......\n",
    "......\n",
    "......\n",
    "=#"
   ]
  },
  {
   "cell_type": "code",
   "execution_count": 41,
   "id": "92b38b86",
   "metadata": {},
   "outputs": [],
   "source": [
    "# convert(Int64,\"1234\") failed "
   ]
  },
  {
   "cell_type": "code",
   "execution_count": 42,
   "id": "b4a8b607",
   "metadata": {},
   "outputs": [
    {
     "data": {
      "text/plain": [
       "1234"
      ]
     },
     "execution_count": 42,
     "metadata": {},
     "output_type": "execute_result"
    }
   ],
   "source": [
    "parse(Int64,\"1234\")"
   ]
  },
  {
   "cell_type": "markdown",
   "id": "81988f31",
   "metadata": {},
   "source": [
    "#### String"
   ]
  },
  {
   "cell_type": "code",
   "execution_count": 43,
   "id": "7abd3a87",
   "metadata": {},
   "outputs": [
    {
     "data": {
      "text/plain": [
       "\"this is a string\""
      ]
     },
     "execution_count": 43,
     "metadata": {},
     "output_type": "execute_result"
    }
   ],
   "source": [
    "s = \"this is a string\""
   ]
  },
  {
   "cell_type": "code",
   "execution_count": 44,
   "id": "32a26755",
   "metadata": {},
   "outputs": [
    {
     "name": "stdout",
     "output_type": "stream",
     "text": [
      "this is a string\n"
     ]
    }
   ],
   "source": [
    "println(s)"
   ]
  },
  {
   "cell_type": "code",
   "execution_count": 47,
   "id": "00cd6fa5",
   "metadata": {},
   "outputs": [
    {
     "data": {
      "text/plain": [
       "\"this is a string \\nthis is another string\\n\""
      ]
     },
     "execution_count": 47,
     "metadata": {},
     "output_type": "execute_result"
    }
   ],
   "source": [
    "\"\"\"\n",
    "this is a string \n",
    "this is another string\n",
    "\"\"\""
   ]
  },
  {
   "cell_type": "code",
   "execution_count": 48,
   "id": "5246265a",
   "metadata": {},
   "outputs": [
    {
     "data": {
      "text/plain": [
       "Char"
      ]
     },
     "execution_count": 48,
     "metadata": {},
     "output_type": "execute_result"
    }
   ],
   "source": [
    "typeof('a')"
   ]
  },
  {
   "cell_type": "code",
   "execution_count": 50,
   "id": "7787b704",
   "metadata": {},
   "outputs": [
    {
     "data": {
      "text/plain": [
       "3.14"
      ]
     },
     "execution_count": 50,
     "metadata": {},
     "output_type": "execute_result"
    }
   ],
   "source": [
    "c = 3.14"
   ]
  },
  {
   "cell_type": "code",
   "execution_count": 52,
   "id": "ec0cc5c0",
   "metadata": {},
   "outputs": [
    {
     "data": {
      "text/plain": [
       "\"pi = 3.14\""
      ]
     },
     "execution_count": 52,
     "metadata": {},
     "output_type": "execute_result"
    }
   ],
   "source": [
    "\"pi = $c\" # in python: f\"{c}\""
   ]
  },
  {
   "cell_type": "code",
   "execution_count": 53,
   "id": "1bc7a26a",
   "metadata": {},
   "outputs": [
    {
     "data": {
      "text/plain": [
       "\"two_c = 6.28\""
      ]
     },
     "execution_count": 53,
     "metadata": {},
     "output_type": "execute_result"
    }
   ],
   "source": [
    "\"two_c = $(c*2)\""
   ]
  },
  {
   "cell_type": "code",
   "execution_count": 54,
   "id": "e7ace9fd",
   "metadata": {},
   "outputs": [
    {
     "data": {
      "text/plain": [
       "\"300\""
      ]
     },
     "execution_count": 54,
     "metadata": {},
     "output_type": "execute_result"
    }
   ],
   "source": [
    "\"$(100*3)\""
   ]
  },
  {
   "cell_type": "code",
   "execution_count": 55,
   "id": "283370c0",
   "metadata": {},
   "outputs": [
    {
     "data": {
      "text/plain": [
       "\"abcdef\""
      ]
     },
     "execution_count": 55,
     "metadata": {},
     "output_type": "execute_result"
    }
   ],
   "source": [
    "\"abc\"*\"def\""
   ]
  },
  {
   "cell_type": "code",
   "execution_count": 56,
   "id": "6b68d819",
   "metadata": {},
   "outputs": [
    {
     "data": {
      "text/plain": [
       "\"abcabcabc\""
      ]
     },
     "execution_count": 56,
     "metadata": {},
     "output_type": "execute_result"
    }
   ],
   "source": [
    "\"abc\"*\"abc\"*\"abc\""
   ]
  },
  {
   "cell_type": "code",
   "execution_count": 57,
   "id": "c96ada01",
   "metadata": {},
   "outputs": [
    {
     "data": {
      "text/plain": [
       "\"abcabcabc\""
      ]
     },
     "execution_count": 57,
     "metadata": {},
     "output_type": "execute_result"
    }
   ],
   "source": [
    "\"abc\"^3"
   ]
  },
  {
   "cell_type": "code",
   "execution_count": 59,
   "id": "1e7d596a",
   "metadata": {},
   "outputs": [
    {
     "data": {
      "text/plain": [
       "\"abcdef\""
      ]
     },
     "execution_count": 59,
     "metadata": {},
     "output_type": "execute_result"
    }
   ],
   "source": [
    "string(\"abc\",\"def\")"
   ]
  },
  {
   "cell_type": "markdown",
   "id": "ab9f7416",
   "metadata": {},
   "source": [
    "#### Tuple"
   ]
  },
  {
   "cell_type": "code",
   "execution_count": 61,
   "id": "4d4089e8",
   "metadata": {},
   "outputs": [
    {
     "data": {
      "text/plain": [
       "(\"a\", \"b\")"
      ]
     },
     "execution_count": 61,
     "metadata": {},
     "output_type": "execute_result"
    }
   ],
   "source": [
    "(\"a\",\"b\")"
   ]
  },
  {
   "cell_type": "code",
   "execution_count": 62,
   "id": "d7c874fd",
   "metadata": {},
   "outputs": [
    {
     "data": {
      "text/plain": [
       "(1, 2, 3, 4, 5, 6)"
      ]
     },
     "execution_count": 62,
     "metadata": {},
     "output_type": "execute_result"
    }
   ],
   "source": [
    "(1,2,3,4,5,6)"
   ]
  },
  {
   "cell_type": "code",
   "execution_count": 63,
   "id": "191d668a",
   "metadata": {},
   "outputs": [
    {
     "data": {
      "text/plain": [
       "Tuple{String, String}"
      ]
     },
     "execution_count": 63,
     "metadata": {},
     "output_type": "execute_result"
    }
   ],
   "source": [
    "typeof((\"a\",\"b\"))"
   ]
  },
  {
   "cell_type": "code",
   "execution_count": 64,
   "id": "976370de",
   "metadata": {},
   "outputs": [
    {
     "data": {
      "text/plain": [
       "Tuple{String, Int64}"
      ]
     },
     "execution_count": 64,
     "metadata": {},
     "output_type": "execute_result"
    }
   ],
   "source": [
    "typeof((\"a\",1))"
   ]
  },
  {
   "cell_type": "code",
   "execution_count": 66,
   "id": "277c6103",
   "metadata": {},
   "outputs": [
    {
     "data": {
      "text/plain": [
       "(\"🍎\", \"🍌\", \"🍐\")"
      ]
     },
     "execution_count": 66,
     "metadata": {},
     "output_type": "execute_result"
    }
   ],
   "source": [
    "fruits = (\"🍎\",\"🍌\",\"🍐\")"
   ]
  },
  {
   "cell_type": "code",
   "execution_count": 67,
   "id": "c278de60",
   "metadata": {},
   "outputs": [
    {
     "data": {
      "text/plain": [
       "Tuple{String, String, String}"
      ]
     },
     "execution_count": 67,
     "metadata": {},
     "output_type": "execute_result"
    }
   ],
   "source": [
    "typeof(fruits)"
   ]
  },
  {
   "cell_type": "code",
   "execution_count": 68,
   "id": "a205ea3d",
   "metadata": {},
   "outputs": [
    {
     "data": {
      "text/plain": [
       "\"🍎\""
      ]
     },
     "execution_count": 68,
     "metadata": {},
     "output_type": "execute_result"
    }
   ],
   "source": [
    "fruits[1]"
   ]
  },
  {
   "cell_type": "code",
   "execution_count": 69,
   "id": "c08b9d22",
   "metadata": {},
   "outputs": [
    {
     "data": {
      "text/plain": [
       "\"🍌\""
      ]
     },
     "execution_count": 69,
     "metadata": {},
     "output_type": "execute_result"
    }
   ],
   "source": [
    "fruits[2]"
   ]
  },
  {
   "cell_type": "code",
   "execution_count": 70,
   "id": "0086f00c",
   "metadata": {},
   "outputs": [
    {
     "data": {
      "text/plain": [
       "\"🍐\""
      ]
     },
     "execution_count": 70,
     "metadata": {},
     "output_type": "execute_result"
    }
   ],
   "source": [
    "fruits[3]"
   ]
  },
  {
   "cell_type": "markdown",
   "id": "1927adab",
   "metadata": {},
   "source": [
    " ##### named tuples"
   ]
  },
  {
   "cell_type": "code",
   "execution_count": 71,
   "id": "0aa3b6c4",
   "metadata": {},
   "outputs": [
    {
     "data": {
      "text/plain": [
       "(first = \"🍎\", second = \"🍌\", third = \"🍐\")"
      ]
     },
     "execution_count": 71,
     "metadata": {},
     "output_type": "execute_result"
    }
   ],
   "source": [
    "ordered_fruits = (first = \"🍎\",second = \"🍌\",third = \"🍐\")"
   ]
  },
  {
   "cell_type": "code",
   "execution_count": 72,
   "id": "a4271941",
   "metadata": {},
   "outputs": [
    {
     "data": {
      "text/plain": [
       "\"🍎\""
      ]
     },
     "execution_count": 72,
     "metadata": {},
     "output_type": "execute_result"
    }
   ],
   "source": [
    "ordered_fruits.first"
   ]
  },
  {
   "cell_type": "code",
   "execution_count": 73,
   "id": "43e8ee1e",
   "metadata": {},
   "outputs": [
    {
     "data": {
      "text/plain": [
       "\"🍌\""
      ]
     },
     "execution_count": 73,
     "metadata": {},
     "output_type": "execute_result"
    }
   ],
   "source": [
    "ordered_fruits.second"
   ]
  },
  {
   "cell_type": "code",
   "execution_count": 75,
   "id": "fa45bb3a",
   "metadata": {},
   "outputs": [
    {
     "data": {
      "text/plain": [
       "\"🍎\""
      ]
     },
     "execution_count": 75,
     "metadata": {},
     "output_type": "execute_result"
    }
   ],
   "source": [
    "ordered_fruits[1]"
   ]
  },
  {
   "cell_type": "markdown",
   "id": "ab03decf",
   "metadata": {},
   "source": [
    "#### Disctionaries"
   ]
  },
  {
   "cell_type": "code",
   "execution_count": 80,
   "id": "c4e339a3",
   "metadata": {},
   "outputs": [
    {
     "data": {
      "text/plain": [
       "Dict{String, String} with 3 entries:\n",
       "  \"second\" => \"🍌\"\n",
       "  \"first\"  => \"🍎\"\n",
       "  \"third\"  => \"🍐\""
      ]
     },
     "execution_count": 80,
     "metadata": {},
     "output_type": "execute_result"
    }
   ],
   "source": [
    "dict_fruits = Dict(\"first\" => \"🍎\",\"second\" => \"🍌\",\"third\" => \"🍐\")"
   ]
  },
  {
   "cell_type": "code",
   "execution_count": 81,
   "id": "df4a2813",
   "metadata": {},
   "outputs": [
    {
     "data": {
      "text/plain": [
       "\"🍎\""
      ]
     },
     "execution_count": 81,
     "metadata": {},
     "output_type": "execute_result"
    }
   ],
   "source": [
    "dict_fruits[\"first\"]"
   ]
  },
  {
   "cell_type": "code",
   "execution_count": 84,
   "id": "3a25b9fd",
   "metadata": {},
   "outputs": [
    {
     "data": {
      "text/plain": [
       "\"🍉\""
      ]
     },
     "execution_count": 84,
     "metadata": {},
     "output_type": "execute_result"
    }
   ],
   "source": [
    "dict_fruits[\"first\"] = \"🍉\""
   ]
  },
  {
   "cell_type": "code",
   "execution_count": 85,
   "id": "25990cdd",
   "metadata": {},
   "outputs": [
    {
     "data": {
      "text/plain": [
       "Dict{String, String} with 3 entries:\n",
       "  \"second\" => \"🍌\"\n",
       "  \"first\"  => \"🍉\"\n",
       "  \"third\"  => \"🍐\""
      ]
     },
     "execution_count": 85,
     "metadata": {},
     "output_type": "execute_result"
    }
   ],
   "source": [
    "dict_fruits"
   ]
  },
  {
   "cell_type": "code",
   "execution_count": 86,
   "id": "5a7c6ccd",
   "metadata": {},
   "outputs": [
    {
     "data": {
      "text/plain": [
       "\"🍎\""
      ]
     },
     "execution_count": 86,
     "metadata": {},
     "output_type": "execute_result"
    }
   ],
   "source": [
    "dict_fruits[\"best\"] = \"🍎\""
   ]
  },
  {
   "cell_type": "code",
   "execution_count": 87,
   "id": "a27612b5",
   "metadata": {},
   "outputs": [
    {
     "data": {
      "text/plain": [
       "Dict{String, String} with 4 entries:\n",
       "  \"second\" => \"🍌\"\n",
       "  \"first\"  => \"🍉\"\n",
       "  \"third\"  => \"🍐\"\n",
       "  \"best\"   => \"🍎\""
      ]
     },
     "execution_count": 87,
     "metadata": {},
     "output_type": "execute_result"
    }
   ],
   "source": [
    "dict_fruits"
   ]
  },
  {
   "cell_type": "code",
   "execution_count": 88,
   "id": "32220668",
   "metadata": {},
   "outputs": [
    {
     "data": {
      "text/plain": [
       "\"🍎\""
      ]
     },
     "execution_count": 88,
     "metadata": {},
     "output_type": "execute_result"
    }
   ],
   "source": [
    "pop!(dict_fruits,\"best\")"
   ]
  },
  {
   "cell_type": "code",
   "execution_count": 89,
   "id": "3b635765",
   "metadata": {},
   "outputs": [
    {
     "data": {
      "text/plain": [
       "Dict{String, String} with 3 entries:\n",
       "  \"second\" => \"🍌\"\n",
       "  \"first\"  => \"🍉\"\n",
       "  \"third\"  => \"🍐\""
      ]
     },
     "execution_count": 89,
     "metadata": {},
     "output_type": "execute_result"
    }
   ],
   "source": [
    "dict_fruits"
   ]
  },
  {
   "cell_type": "markdown",
   "id": "43701d3a",
   "metadata": {},
   "source": [
    "#### Arrays"
   ]
  },
  {
   "cell_type": "code",
   "execution_count": 94,
   "id": "e7975c51",
   "metadata": {},
   "outputs": [
    {
     "data": {
      "text/plain": [
       "3-element Vector{String}:\n",
       " \"🍎\"\n",
       " \"🍌\"\n",
       " \"🍐\""
      ]
     },
     "execution_count": 94,
     "metadata": {},
     "output_type": "execute_result"
    }
   ],
   "source": [
    "[\"🍎\",\"🍌\",\"🍐\"]"
   ]
  },
  {
   "cell_type": "code",
   "execution_count": 95,
   "id": "2d369d38",
   "metadata": {},
   "outputs": [
    {
     "data": {
      "text/plain": [
       "3-element Vector{String}:\n",
       " \"🍎\"\n",
       " \"🍌\"\n",
       " \"🍐\""
      ]
     },
     "execution_count": 95,
     "metadata": {},
     "output_type": "execute_result"
    }
   ],
   "source": [
    "array_fruits = [\"🍎\",\"🍌\",\"🍐\"]"
   ]
  },
  {
   "cell_type": "code",
   "execution_count": 97,
   "id": "846a04ae",
   "metadata": {},
   "outputs": [
    {
     "data": {
      "text/plain": [
       "7-element Vector{Int64}:\n",
       " 1\n",
       " 1\n",
       " 2\n",
       " 3\n",
       " 4\n",
       " 5\n",
       " 6"
      ]
     },
     "execution_count": 97,
     "metadata": {},
     "output_type": "execute_result"
    }
   ],
   "source": [
    "fib = [1,1,2,3,4,5,6]"
   ]
  },
  {
   "cell_type": "code",
   "execution_count": 101,
   "id": "642508dd",
   "metadata": {},
   "outputs": [
    {
     "data": {
      "text/plain": [
       "2"
      ]
     },
     "execution_count": 101,
     "metadata": {},
     "output_type": "execute_result"
    }
   ],
   "source": [
    "fib[3]"
   ]
  },
  {
   "cell_type": "code",
   "execution_count": 98,
   "id": "e83c4092",
   "metadata": {},
   "outputs": [
    {
     "data": {
      "text/plain": [
       "2-element Vector{Float64}:\n",
       " 1.0\n",
       " 1.0"
      ]
     },
     "execution_count": 98,
     "metadata": {},
     "output_type": "execute_result"
    }
   ],
   "source": [
    "[1,1.0]"
   ]
  },
  {
   "cell_type": "code",
   "execution_count": 99,
   "id": "53fc6d82",
   "metadata": {},
   "outputs": [
    {
     "data": {
      "text/plain": [
       "3-element Vector{Any}:\n",
       " 1\n",
       " 1.0\n",
       "  \"a\""
      ]
     },
     "execution_count": 99,
     "metadata": {},
     "output_type": "execute_result"
    }
   ],
   "source": [
    "[1,1.0,\"a\"]"
   ]
  },
  {
   "cell_type": "code",
   "execution_count": 107,
   "id": "e05362fb",
   "metadata": {},
   "outputs": [
    {
     "data": {
      "text/plain": [
       "3-element Vector{String}:\n",
       " \"🍎\"\n",
       " \"🍌\"\n",
       " \"🍐\""
      ]
     },
     "execution_count": 107,
     "metadata": {},
     "output_type": "execute_result"
    }
   ],
   "source": [
    "array_fruits1 = [\"🍎\",\"🍌\",\"🍐\"]"
   ]
  },
  {
   "cell_type": "code",
   "execution_count": 108,
   "id": "cb1d7531",
   "metadata": {},
   "outputs": [
    {
     "data": {
      "text/plain": [
       "\"🍌\""
      ]
     },
     "execution_count": 108,
     "metadata": {},
     "output_type": "execute_result"
    }
   ],
   "source": [
    "array_fruits1[2]"
   ]
  },
  {
   "cell_type": "code",
   "execution_count": 109,
   "id": "3e114b8c",
   "metadata": {},
   "outputs": [
    {
     "data": {
      "text/plain": [
       "\"banana\""
      ]
     },
     "execution_count": 109,
     "metadata": {},
     "output_type": "execute_result"
    }
   ],
   "source": [
    "array_fruits1[2] = \"banana\""
   ]
  },
  {
   "cell_type": "code",
   "execution_count": 110,
   "id": "9f55c12f",
   "metadata": {},
   "outputs": [
    {
     "data": {
      "text/plain": [
       "3-element Vector{String}:\n",
       " \"🍎\"\n",
       " \"banana\"\n",
       " \"🍐\""
      ]
     },
     "execution_count": 110,
     "metadata": {},
     "output_type": "execute_result"
    }
   ],
   "source": [
    "array_fruits1"
   ]
  },
  {
   "cell_type": "code",
   "execution_count": 111,
   "id": "3e187127",
   "metadata": {},
   "outputs": [
    {
     "data": {
      "text/plain": [
       "8-element Vector{Int64}:\n",
       "     1\n",
       "     1\n",
       "     2\n",
       "     3\n",
       "     4\n",
       "     5\n",
       "     6\n",
       " 12345"
      ]
     },
     "execution_count": 111,
     "metadata": {},
     "output_type": "execute_result"
    }
   ],
   "source": [
    "push!(fib,12345)"
   ]
  },
  {
   "cell_type": "code",
   "execution_count": 112,
   "id": "46b667e9",
   "metadata": {},
   "outputs": [
    {
     "data": {
      "text/plain": [
       "12345"
      ]
     },
     "execution_count": 112,
     "metadata": {},
     "output_type": "execute_result"
    }
   ],
   "source": [
    "pop!(fib)"
   ]
  },
  {
   "cell_type": "code",
   "execution_count": 113,
   "id": "2e15f78c",
   "metadata": {},
   "outputs": [
    {
     "data": {
      "text/plain": [
       "2-element Vector{Vector{Int64}}:\n",
       " [1, 2, 3]\n",
       " [4, 5, 6]"
      ]
     },
     "execution_count": 113,
     "metadata": {},
     "output_type": "execute_result"
    }
   ],
   "source": [
    "[[1,2,3],[4,5,6]]"
   ]
  },
  {
   "cell_type": "code",
   "execution_count": 114,
   "id": "1d167f74",
   "metadata": {},
   "outputs": [
    {
     "data": {
      "text/plain": [
       "2-element Vector{Vector{Int64}}:\n",
       " [1, 2, 3]\n",
       " [4, 5, 6, 7]"
      ]
     },
     "execution_count": 114,
     "metadata": {},
     "output_type": "execute_result"
    }
   ],
   "source": [
    "[[1,2,3],[4,5,6,7]]"
   ]
  },
  {
   "cell_type": "code",
   "execution_count": 115,
   "id": "cb4fa248",
   "metadata": {},
   "outputs": [
    {
     "data": {
      "text/plain": [
       "4×3 Matrix{Float64}:\n",
       " 0.48247     0.496644  0.719476\n",
       " 0.00937945  0.880942  0.992877\n",
       " 0.707789    0.565142  0.353787\n",
       " 0.0821327   0.831566  0.777347"
      ]
     },
     "execution_count": 115,
     "metadata": {},
     "output_type": "execute_result"
    }
   ],
   "source": [
    "rand(4,3)"
   ]
  },
  {
   "cell_type": "code",
   "execution_count": 116,
   "id": "2ba28768",
   "metadata": {},
   "outputs": [
    {
     "data": {
      "text/plain": [
       "2×3×4×5×6 Array{Float64, 5}:\n",
       "[:, :, 1, 1, 1] =\n",
       " 0.0567787  0.93681   0.643495\n",
       " 0.87758    0.879858  0.837055\n",
       "\n",
       "[:, :, 2, 1, 1] =\n",
       " 0.0641527  0.67364   0.456803\n",
       " 0.742403   0.622489  0.57587\n",
       "\n",
       "[:, :, 3, 1, 1] =\n",
       " 0.218711  0.0496468  0.349736\n",
       " 0.434453  0.138925   0.958326\n",
       "\n",
       "[:, :, 4, 1, 1] =\n",
       " 0.768628  0.780388   0.737307\n",
       " 0.176362  0.0678671  0.960816\n",
       "\n",
       "[:, :, 1, 2, 1] =\n",
       " 0.83395   0.18981   0.528336\n",
       " 0.526413  0.430758  0.769878\n",
       "\n",
       "[:, :, 2, 2, 1] =\n",
       " 0.580636  0.383829  0.659033\n",
       " 0.642938  0.783438  0.607517\n",
       "\n",
       "[:, :, 3, 2, 1] =\n",
       " 0.0649676  0.607514  0.616262\n",
       " 0.528775   0.908164  0.194505\n",
       "\n",
       "[:, :, 4, 2, 1] =\n",
       " 0.500769  0.89004   0.615101\n",
       " 0.233737  0.123916  0.245151\n",
       "\n",
       "[:, :, 1, 3, 1] =\n",
       " 0.45251   0.136071  0.0424627\n",
       " 0.940116  0.869553  0.737694\n",
       "\n",
       "[:, :, 2, 3, 1] =\n",
       " 0.796588  0.545811  0.629728\n",
       " 0.601568  0.152073  0.561488\n",
       "\n",
       "[:, :, 3, 3, 1] =\n",
       " 0.781614  0.284421  0.0370718\n",
       " 0.899276  0.779488  0.927877\n",
       "\n",
       "[:, :, 4, 3, 1] =\n",
       " 0.352356  0.151537  0.808293\n",
       " 0.485586  0.859386  0.0233992\n",
       "\n",
       "[:, :, 1, 4, 1] =\n",
       " 0.536657  0.58578   0.535112\n",
       " 0.192269  0.741642  0.103447\n",
       "\n",
       "[:, :, 2, 4, 1] =\n",
       " 0.623731  0.0458279  0.946865\n",
       " 0.20341   0.844344   0.0126728\n",
       "\n",
       "[:, :, 3, 4, 1] =\n",
       " 0.31606   0.0210831  0.875964\n",
       " 0.487034  0.263991   0.0438756\n",
       "\n",
       "[:, :, 4, 4, 1] =\n",
       " 0.0543318  0.483339  0.912182\n",
       " 0.403887   0.567624  0.361391\n",
       "\n",
       "[:, :, 1, 5, 1] =\n",
       " 0.795068  0.982088  0.865209\n",
       " 0.551687  0.918433  0.750534\n",
       "\n",
       "[:, :, 2, 5, 1] =\n",
       " 0.97601   0.189462  0.797094\n",
       " 0.759234  0.565236  0.0768684\n",
       "\n",
       "[:, :, 3, 5, 1] =\n",
       " 0.0666514  0.669361  0.2636\n",
       " 0.412123   0.658919  0.758132\n",
       "\n",
       "[:, :, 4, 5, 1] =\n",
       " 0.498539  0.659276  0.17875\n",
       " 0.995853  0.629132  0.978626\n",
       "\n",
       "[:, :, 1, 1, 2] =\n",
       " 0.921238  0.411285  0.701366\n",
       " 0.61189   0.507975  0.141299\n",
       "\n",
       "[:, :, 2, 1, 2] =\n",
       " 0.40679   0.935277  0.886097\n",
       " 0.257054  0.624786  0.950952\n",
       "\n",
       "[:, :, 3, 1, 2] =\n",
       " 0.826979  0.619368  0.0478593\n",
       " 0.348176  0.564991  0.163617\n",
       "\n",
       "[:, :, 4, 1, 2] =\n",
       " 0.968043  0.205712  0.0216812\n",
       " 0.287968  0.887188  0.491737\n",
       "\n",
       "[:, :, 1, 2, 2] =\n",
       " 0.989866  0.363872  0.717929\n",
       " 0.131933  0.918308  0.212378\n",
       "\n",
       "[:, :, 2, 2, 2] =\n",
       " 0.0502002  0.192984  0.835042\n",
       " 0.752884   0.620808  0.527747\n",
       "\n",
       "[:, :, 3, 2, 2] =\n",
       " 0.620939   0.933502  0.15277\n",
       " 0.0732276  0.422489  0.65196\n",
       "\n",
       "[:, :, 4, 2, 2] =\n",
       " 0.771207  0.14686   0.852975\n",
       " 0.624809  0.239757  0.388699\n",
       "\n",
       "[:, :, 1, 3, 2] =\n",
       " 0.446518   0.418538  0.12035\n",
       " 0.0118471  0.458653  0.804302\n",
       "\n",
       "[:, :, 2, 3, 2] =\n",
       " 0.871611  0.957969   0.553405\n",
       " 0.518621  0.0432229  0.305249\n",
       "\n",
       "[:, :, 3, 3, 2] =\n",
       " 0.912886   0.496726  0.158428\n",
       " 0.0924983  0.473435  0.769873\n",
       "\n",
       "[:, :, 4, 3, 2] =\n",
       " 0.452379  0.83899   0.782184\n",
       " 0.928648  0.294663  0.495872\n",
       "\n",
       "[:, :, 1, 4, 2] =\n",
       " 0.613117  0.896945  0.766898\n",
       " 0.192485  0.31938   0.901625\n",
       "\n",
       "[:, :, 2, 4, 2] =\n",
       " 0.622611  0.532281  0.141003\n",
       " 0.527136  0.183454  0.638408\n",
       "\n",
       "[:, :, 3, 4, 2] =\n",
       " 0.937812  0.638206  0.728917\n",
       " 0.157687  0.492958  0.721859\n",
       "\n",
       "[:, :, 4, 4, 2] =\n",
       " 0.768011  0.895516  0.187648\n",
       " 0.824099  0.991197  0.947078\n",
       "\n",
       "[:, :, 1, 5, 2] =\n",
       " 0.858538  0.033283  0.25227\n",
       " 0.521802  0.815194  0.874071\n",
       "\n",
       "[:, :, 2, 5, 2] =\n",
       " 0.985723  0.233649   0.193844\n",
       " 0.612527  0.0211447  0.415881\n",
       "\n",
       "[:, :, 3, 5, 2] =\n",
       " 0.219233  0.648602  0.517215\n",
       " 0.533008  0.483606  0.210511\n",
       "\n",
       "[:, :, 4, 5, 2] =\n",
       " 0.0810505  0.429024  0.631449\n",
       " 0.142138   0.196359  0.170068\n",
       "\n",
       "[:, :, 1, 1, 3] =\n",
       " 0.0362967  0.97026   0.217106\n",
       " 0.645635   0.342084  0.201389\n",
       "\n",
       "[:, :, 2, 1, 3] =\n",
       " 0.588905  0.608771  0.848511\n",
       " 0.237434  0.599049  0.705169\n",
       "\n",
       "[:, :, 3, 1, 3] =\n",
       " 0.231454  0.616297  0.259127\n",
       " 0.76581   0.785419  0.92436\n",
       "\n",
       "[:, :, 4, 1, 3] =\n",
       " 0.660049  0.859689  0.906224\n",
       " 0.917017  0.172017  0.612243\n",
       "\n",
       "[:, :, 1, 2, 3] =\n",
       " 0.17527    0.334853  0.179099\n",
       " 0.0998355  0.206723  0.247652\n",
       "\n",
       "[:, :, 2, 2, 3] =\n",
       " 0.234611  0.465595  0.812699\n",
       " 0.804709  0.970434  0.030237\n",
       "\n",
       "[:, :, 3, 2, 3] =\n",
       " 0.774516   0.329608  0.0681632\n",
       " 0.0609497  0.242559  0.78369\n",
       "\n",
       "[:, :, 4, 2, 3] =\n",
       " 0.695371  0.120267  0.943522\n",
       " 0.259376  0.791706  0.924246\n",
       "\n",
       "[:, :, 1, 3, 3] =\n",
       " 0.262691  0.453888  0.539988\n",
       " 0.298763  0.78358   0.850912\n",
       "\n",
       "[:, :, 2, 3, 3] =\n",
       " 0.731141  0.899066   0.747965\n",
       " 0.920322  0.0495959  0.0202414\n",
       "\n",
       "[:, :, 3, 3, 3] =\n",
       " 0.945173  0.385988  0.862394\n",
       " 0.808121  0.803603  0.150477\n",
       "\n",
       "[:, :, 4, 3, 3] =\n",
       " 0.738642  0.273818  0.896886\n",
       " 0.74389   0.890946  0.497565\n",
       "\n",
       "[:, :, 1, 4, 3] =\n",
       " 0.804573     0.506408  0.182589\n",
       " 0.000357032  0.930627  0.463148\n",
       "\n",
       "[:, :, 2, 4, 3] =\n",
       " 0.947925  0.375814  0.437843\n",
       " 0.665964  0.71349   0.042077\n",
       "\n",
       "[:, :, 3, 4, 3] =\n",
       " 0.918294  0.829524  0.497803\n",
       " 0.851702  0.360799  0.243218\n",
       "\n",
       "[:, :, 4, 4, 3] =\n",
       " 0.526289  0.312538  0.89902\n",
       " 0.53589   0.260149  0.838022\n",
       "\n",
       "[:, :, 1, 5, 3] =\n",
       " 0.298492  0.0557973  0.762923\n",
       " 0.643591  0.937377   0.96568\n",
       "\n",
       "[:, :, 2, 5, 3] =\n",
       " 0.261996  0.817963  0.228851\n",
       " 0.456905  0.751111  0.259992\n",
       "\n",
       "[:, :, 3, 5, 3] =\n",
       " 0.749042  0.894022  0.646666\n",
       " 0.938249  0.43657   0.828392\n",
       "\n",
       "[:, :, 4, 5, 3] =\n",
       " 0.394379   0.762741  0.0289949\n",
       " 0.0665925  0.404958  0.691442\n",
       "\n",
       "[:, :, 1, 1, 4] =\n",
       " 0.456982  0.34922   0.094241\n",
       " 0.168924  0.276617  0.638669\n",
       "\n",
       "[:, :, 2, 1, 4] =\n",
       " 0.855612  0.378692  0.0829441\n",
       " 0.665123  0.254576  0.851984\n",
       "\n",
       "[:, :, 3, 1, 4] =\n",
       " 0.0947505  0.938367  0.154916\n",
       " 0.662052   0.652454  0.193675\n",
       "\n",
       "[:, :, 4, 1, 4] =\n",
       " 0.130891  0.646535  0.753066\n",
       " 0.12555   0.658668  0.0665365\n",
       "\n",
       "[:, :, 1, 2, 4] =\n",
       " 0.164707  0.215188  0.945995\n",
       " 0.251587  0.624878  0.6583\n",
       "\n",
       "[:, :, 2, 2, 4] =\n",
       " 0.191214    0.660087   0.0566412\n",
       " 0.00424895  0.0461619  0.519581\n",
       "\n",
       "[:, :, 3, 2, 4] =\n",
       " 0.981006  0.847601  0.10227\n",
       " 0.234668  0.205731  0.631902\n",
       "\n",
       "[:, :, 4, 2, 4] =\n",
       " 0.593189  0.383623  0.739283\n",
       " 0.961875  0.886207  0.233677\n",
       "\n",
       "[:, :, 1, 3, 4] =\n",
       " 0.907379  0.020328  0.338673\n",
       " 0.110262  0.401473  0.0989465\n",
       "\n",
       "[:, :, 2, 3, 4] =\n",
       " 0.625634  0.9155    0.0934336\n",
       " 0.74032   0.907103  0.511991\n",
       "\n",
       "[:, :, 3, 3, 4] =\n",
       " 0.773453  0.471498  0.196487\n",
       " 0.444096  0.231216  0.514601\n",
       "\n",
       "[:, :, 4, 3, 4] =\n",
       " 0.491988  0.735004  0.645392\n",
       " 0.20206   0.397001  0.888867\n",
       "\n",
       "[:, :, 1, 4, 4] =\n",
       " 0.268944   0.23985    0.0247425\n",
       " 0.0231046  0.0124324  0.443799\n",
       "\n",
       "[:, :, 2, 4, 4] =\n",
       " 0.660467  0.25585    0.606573\n",
       " 0.677602  0.0531021  0.149588\n",
       "\n",
       "[:, :, 3, 4, 4] =\n",
       " 0.1015    0.452957  0.631407\n",
       " 0.609037  0.293366  0.631681\n",
       "\n",
       "[:, :, 4, 4, 4] =\n",
       " 0.0985831  0.858398  0.870672\n",
       " 0.807648   0.591608  0.235967\n",
       "\n",
       "[:, :, 1, 5, 4] =\n",
       " 0.85605   0.849368  0.0615908\n",
       " 0.252925  0.669205  0.0501249\n",
       "\n",
       "[:, :, 2, 5, 4] =\n",
       " 0.510871  0.229482  0.918208\n",
       " 0.258653  0.885323  0.479971\n",
       "\n",
       "[:, :, 3, 5, 4] =\n",
       " 0.203025  0.123662  0.535978\n",
       " 0.960571  0.29498   0.634105\n",
       "\n",
       "[:, :, 4, 5, 4] =\n",
       " 0.818734  0.20112   0.571671\n",
       " 0.810689  0.407766  0.0443797\n",
       "\n",
       "[:, :, 1, 1, 5] =\n",
       " 0.58883   0.536294  0.0881823\n",
       " 0.629815  0.361522  0.148748\n",
       "\n",
       "[:, :, 2, 1, 5] =\n",
       " 0.107789  0.0316196  0.227103\n",
       " 0.570013  0.628516   0.597208\n",
       "\n",
       "[:, :, 3, 1, 5] =\n",
       " 0.650103  0.499062  0.956274\n",
       " 0.970018  0.209092  0.301704\n",
       "\n",
       "[:, :, 4, 1, 5] =\n",
       " 0.251368  0.543634  0.542224\n",
       " 0.773296  0.526388  0.322538\n",
       "\n",
       "[:, :, 1, 2, 5] =\n",
       " 0.227323  0.738828  0.193027\n",
       " 0.920793  0.046716  0.594059\n",
       "\n",
       "[:, :, 2, 2, 5] =\n",
       " 0.111001  0.808515  0.120646\n",
       " 0.102483  0.196532  0.453846\n",
       "\n",
       "[:, :, 3, 2, 5] =\n",
       " 0.588963  0.863597  0.823443\n",
       " 0.723192  0.217482  0.655503\n",
       "\n",
       "[:, :, 4, 2, 5] =\n",
       " 0.0431433  0.642028  0.780254\n",
       " 0.0289215  0.951612  0.19651\n",
       "\n",
       "[:, :, 1, 3, 5] =\n",
       " 0.688043  0.0764945  0.470957\n",
       " 0.410242  0.511792   0.896692\n",
       "\n",
       "[:, :, 2, 3, 5] =\n",
       " 0.936797  0.825145  0.0714007\n",
       " 0.247586  0.385568  0.861937\n",
       "\n",
       "[:, :, 3, 3, 5] =\n",
       " 0.28693   0.209848  0.167067\n",
       " 0.486072  0.790675  0.166721\n",
       "\n",
       "[:, :, 4, 3, 5] =\n",
       " 0.934987  0.737     0.17794\n",
       " 0.508822  0.590295  0.498822\n",
       "\n",
       "[:, :, 1, 4, 5] =\n",
       " 0.597669  0.508601  0.321503\n",
       " 0.592972  0.126844  0.96908\n",
       "\n",
       "[:, :, 2, 4, 5] =\n",
       " 0.791208  0.180388  0.130741\n",
       " 0.356046  0.349877  0.57435\n",
       "\n",
       "[:, :, 3, 4, 5] =\n",
       " 0.261068  0.164846  0.801245\n",
       " 0.760144  0.17787   0.0267949\n",
       "\n",
       "[:, :, 4, 4, 5] =\n",
       " 0.634791  0.893813  0.400313\n",
       " 0.280586  0.392489  0.258339\n",
       "\n",
       "[:, :, 1, 5, 5] =\n",
       " 0.052456  0.00940944  0.340454\n",
       " 0.796201  0.148377    0.708745\n",
       "\n",
       "[:, :, 2, 5, 5] =\n",
       " 0.944594  0.911871  0.555249\n",
       " 0.995169  0.342577  0.617477\n",
       "\n",
       "[:, :, 3, 5, 5] =\n",
       " 0.814162  0.110137   0.652877\n",
       " 0.883343  0.0995721  0.271602\n",
       "\n",
       "[:, :, 4, 5, 5] =\n",
       " 0.12615   0.177594  0.962408\n",
       " 0.393325  0.771276  0.0220273\n",
       "\n",
       "[:, :, 1, 1, 6] =\n",
       " 0.170338  0.556711  0.466088\n",
       " 0.941234  0.961584  0.551599\n",
       "\n",
       "[:, :, 2, 1, 6] =\n",
       " 0.16654   0.305334  0.160049\n",
       " 0.546498  0.198058  0.65473\n",
       "\n",
       "[:, :, 3, 1, 6] =\n",
       " 0.5597    0.198189  0.136345\n",
       " 0.710329  0.272025  0.937169\n",
       "\n",
       "[:, :, 4, 1, 6] =\n",
       " 0.427532  0.974226  0.317155\n",
       " 0.283563  0.847534  0.280369\n",
       "\n",
       "[:, :, 1, 2, 6] =\n",
       " 0.346144  0.493939  0.812898\n",
       " 0.642404  0.635471  0.085964\n",
       "\n",
       "[:, :, 2, 2, 6] =\n",
       " 0.275328  0.0239898  0.218671\n",
       " 0.899823  0.117564   0.960648\n",
       "\n",
       "[:, :, 3, 2, 6] =\n",
       " 0.0683034  0.508946  0.85773\n",
       " 0.790407   0.66186   0.826627\n",
       "\n",
       "[:, :, 4, 2, 6] =\n",
       " 0.11111   0.680034  0.98325\n",
       " 0.361134  0.934518  0.682836\n",
       "\n",
       "[:, :, 1, 3, 6] =\n",
       " 0.76465   0.508875  0.849212\n",
       " 0.618727  0.673388  0.175862\n",
       "\n",
       "[:, :, 2, 3, 6] =\n",
       " 0.697378  0.343488  0.871869\n",
       " 0.517741  0.851477  0.488733\n",
       "\n",
       "[:, :, 3, 3, 6] =\n",
       " 0.309914  0.102351  0.373246\n",
       " 0.170151  0.499369  0.747587\n",
       "\n",
       "[:, :, 4, 3, 6] =\n",
       " 0.587109  0.0214272  0.753074\n",
       " 0.873385  0.200084   0.590678\n",
       "\n",
       "[:, :, 1, 4, 6] =\n",
       " 0.389377  0.581044  0.498522\n",
       " 0.378162  0.871778  0.318465\n",
       "\n",
       "[:, :, 2, 4, 6] =\n",
       " 0.316339  0.220575  0.962922\n",
       " 0.586247  0.330179  0.0681635\n",
       "\n",
       "[:, :, 3, 4, 6] =\n",
       " 0.0945529  0.753181  0.151446\n",
       " 0.240095   0.594373  0.956612\n",
       "\n",
       "[:, :, 4, 4, 6] =\n",
       " 0.43359  0.106509  0.16005\n",
       " 0.50517  0.686774  0.200448\n",
       "\n",
       "[:, :, 1, 5, 6] =\n",
       " 0.472095  0.424668  0.33508\n",
       " 0.427411  0.398488  0.728438\n",
       "\n",
       "[:, :, 2, 5, 6] =\n",
       " 0.39935     0.385934  0.357935\n",
       " 0.00476339  0.752215  0.196786\n",
       "\n",
       "[:, :, 3, 5, 6] =\n",
       " 0.928596  0.241337  0.574057\n",
       " 0.799878  0.233458  0.399812\n",
       "\n",
       "[:, :, 4, 5, 6] =\n",
       " 0.0812489  0.738037  0.246585\n",
       " 0.305636   0.183586  0.071183"
      ]
     },
     "execution_count": 116,
     "metadata": {},
     "output_type": "execute_result"
    }
   ],
   "source": [
    "rand(2,3,4,5,6)"
   ]
  },
  {
   "cell_type": "code",
   "execution_count": 117,
   "id": "3968bdfd",
   "metadata": {},
   "outputs": [
    {
     "data": {
      "text/plain": [
       "3-element Vector{String}:\n",
       " \"🍎\"\n",
       " \"🍌\"\n",
       " \"🍐\""
      ]
     },
     "execution_count": 117,
     "metadata": {},
     "output_type": "execute_result"
    }
   ],
   "source": [
    "array_fruits = [\"🍎\",\"🍌\",\"🍐\"]"
   ]
  },
  {
   "cell_type": "code",
   "execution_count": 118,
   "id": "232cc707",
   "metadata": {},
   "outputs": [
    {
     "data": {
      "text/plain": [
       "3-element Vector{String}:\n",
       " \"🍎\"\n",
       " \"🍌\"\n",
       " \"🍐\""
      ]
     },
     "execution_count": 118,
     "metadata": {},
     "output_type": "execute_result"
    }
   ],
   "source": [
    "array_fruits2 = copy(array_fruits)"
   ]
  },
  {
   "cell_type": "code",
   "execution_count": 119,
   "id": "b5e37b66",
   "metadata": {},
   "outputs": [
    {
     "data": {
      "text/plain": [
       "\"banana\""
      ]
     },
     "execution_count": 119,
     "metadata": {},
     "output_type": "execute_result"
    }
   ],
   "source": [
    "array_fruits2[2] = \"banana\""
   ]
  },
  {
   "cell_type": "code",
   "execution_count": 120,
   "id": "a7a9a889",
   "metadata": {},
   "outputs": [
    {
     "data": {
      "text/plain": [
       "3-element Vector{String}:\n",
       " \"🍎\"\n",
       " \"banana\"\n",
       " \"🍐\""
      ]
     },
     "execution_count": 120,
     "metadata": {},
     "output_type": "execute_result"
    }
   ],
   "source": [
    "array_fruits2"
   ]
  },
  {
   "cell_type": "markdown",
   "id": "34115f09",
   "metadata": {},
   "source": [
    "#### Loop"
   ]
  },
  {
   "cell_type": "markdown",
   "id": "c673cf69",
   "metadata": {},
   "source": [
    "##### While Loop"
   ]
  },
  {
   "cell_type": "code",
   "execution_count": 125,
   "id": "307d944f",
   "metadata": {},
   "outputs": [
    {
     "name": "stdout",
     "output_type": "stream",
     "text": [
      "1\n",
      "2\n",
      "3\n",
      "4\n",
      "5\n",
      "6\n",
      "7\n",
      "8\n",
      "9\n",
      "10\n"
     ]
    }
   ],
   "source": [
    "n = 1\n",
    "while n <= 10\n",
    "    println(n)\n",
    "    n+=1\n",
    "end"
   ]
  },
  {
   "cell_type": "code",
   "execution_count": 126,
   "id": "e5807a2a",
   "metadata": {},
   "outputs": [
    {
     "name": "stdout",
     "output_type": "stream",
     "text": [
      "12345678910"
     ]
    }
   ],
   "source": [
    "n = 1\n",
    "while n <= 10\n",
    "    print(n)\n",
    "    n+=1\n",
    "end"
   ]
  },
  {
   "cell_type": "code",
   "execution_count": 127,
   "id": "22e68863",
   "metadata": {},
   "outputs": [
    {
     "name": "stdout",
     "output_type": "stream",
     "text": [
      "1:1\n",
      "2:3\n",
      "3:6\n",
      "4:10\n",
      "5:15\n",
      "6:21\n",
      "7:28\n",
      "8:36\n",
      "9:45\n",
      "10:55\n"
     ]
    }
   ],
   "source": [
    "n = 1\n",
    "s = 0 \n",
    "while n <= 10\n",
    "    s += n\n",
    "    println(\"$n:$s\")\n",
    "    n+=1\n",
    "end"
   ]
  },
  {
   "cell_type": "code",
   "execution_count": 129,
   "id": "1a7a9e27",
   "metadata": {},
   "outputs": [
    {
     "name": "stdout",
     "output_type": "stream",
     "text": [
      "1\n",
      "1\n",
      "2\n",
      "3\n",
      "5\n",
      "8\n"
     ]
    }
   ],
   "source": [
    "fib = [1,1,2,3,5,8]\n",
    "i = 1\n",
    "while i<=length(fib)\n",
    "    println(fib[i])\n",
    "    i+=1\n",
    "end"
   ]
  },
  {
   "cell_type": "code",
   "execution_count": 132,
   "id": "7579f295",
   "metadata": {},
   "outputs": [
    {
     "data": {
      "text/plain": [
       "30-element Vector{Int64}:\n",
       "      1\n",
       "      1\n",
       "      2\n",
       "      3\n",
       "      5\n",
       "      8\n",
       "     13\n",
       "     21\n",
       "     34\n",
       "     55\n",
       "     89\n",
       "    144\n",
       "    233\n",
       "      ⋮\n",
       "   4181\n",
       "   6765\n",
       "  10946\n",
       "  17711\n",
       "  28657\n",
       "  46368\n",
       "  75025\n",
       " 121393\n",
       " 196418\n",
       " 317811\n",
       " 514229\n",
       " 832040"
      ]
     },
     "execution_count": 132,
     "metadata": {},
     "output_type": "execute_result"
    }
   ],
   "source": [
    "i = length(fib)+1\n",
    "while i <= 30\n",
    "    push!(fib,fib[i-1]+fib[i-2])\n",
    "    i+=1\n",
    "end\n",
    "fib"
   ]
  },
  {
   "cell_type": "code",
   "execution_count": 133,
   "id": "c34d7f7d",
   "metadata": {},
   "outputs": [
    {
     "data": {
      "text/plain": [
       "21-element Vector{Int64}:\n",
       "     1\n",
       "     1\n",
       "     2\n",
       "     3\n",
       "     5\n",
       "     8\n",
       "    13\n",
       "    21\n",
       "    34\n",
       "    55\n",
       "    89\n",
       "   144\n",
       "   233\n",
       "   377\n",
       "   610\n",
       "   987\n",
       "  1597\n",
       "  2584\n",
       "  4181\n",
       "  6765\n",
       " 10946"
      ]
     },
     "execution_count": 133,
     "metadata": {},
     "output_type": "execute_result"
    }
   ],
   "source": [
    "fib = [1,1,2,3,5,8]\n",
    "while fib[end] <= 10000\n",
    "    push!(fib,fib[end]+fib[end-1])\n",
    "end\n",
    "fib"
   ]
  },
  {
   "cell_type": "markdown",
   "id": "746081be",
   "metadata": {},
   "source": [
    "##### For Loop"
   ]
  },
  {
   "cell_type": "code",
   "execution_count": 134,
   "id": "c2816530",
   "metadata": {},
   "outputs": [
    {
     "name": "stdout",
     "output_type": "stream",
     "text": [
      "1\n",
      "2\n",
      "3\n",
      "4\n",
      "5\n",
      "6\n",
      "7\n",
      "8\n",
      "9\n",
      "10\n"
     ]
    }
   ],
   "source": [
    "for n in 1:10\n",
    "    println(n)\n",
    "end"
   ]
  },
  {
   "cell_type": "code",
   "execution_count": 138,
   "id": "843e5817",
   "metadata": {},
   "outputs": [
    {
     "name": "stdout",
     "output_type": "stream",
     "text": [
      "1\n",
      "3\n",
      "5\n",
      "7\n",
      "9\n",
      "11\n",
      "13\n",
      "15\n",
      "17\n",
      "19\n"
     ]
    }
   ],
   "source": [
    "for n in 1:2:20\n",
    "    println(n)\n",
    "end"
   ]
  },
  {
   "cell_type": "code",
   "execution_count": 139,
   "id": "9c74b295",
   "metadata": {},
   "outputs": [
    {
     "name": "stdout",
     "output_type": "stream",
     "text": [
      "20\n",
      "19\n",
      "18\n",
      "17\n",
      "16\n",
      "15\n",
      "14\n",
      "13\n",
      "12\n",
      "11\n",
      "10\n",
      "9\n",
      "8\n",
      "7\n",
      "6\n",
      "5\n",
      "4\n",
      "3\n",
      "2\n",
      "1\n"
     ]
    }
   ],
   "source": [
    "for n in 20:-1:1\n",
    "    println(n)\n",
    "end"
   ]
  },
  {
   "cell_type": "code",
   "execution_count": 135,
   "id": "5bf7b64c",
   "metadata": {},
   "outputs": [
    {
     "data": {
      "text/plain": [
       "21-element Vector{Int64}:\n",
       "     1\n",
       "     1\n",
       "     2\n",
       "     3\n",
       "     5\n",
       "     8\n",
       "    13\n",
       "    21\n",
       "    34\n",
       "    55\n",
       "    89\n",
       "   144\n",
       "   233\n",
       "   377\n",
       "   610\n",
       "   987\n",
       "  1597\n",
       "  2584\n",
       "  4181\n",
       "  6765\n",
       " 10946"
      ]
     },
     "execution_count": 135,
     "metadata": {},
     "output_type": "execute_result"
    }
   ],
   "source": [
    "fib"
   ]
  },
  {
   "cell_type": "code",
   "execution_count": 136,
   "id": "fd889f5d",
   "metadata": {},
   "outputs": [
    {
     "name": "stdout",
     "output_type": "stream",
     "text": [
      "1\n",
      "1\n",
      "2\n",
      "3\n",
      "5\n",
      "8\n",
      "13\n",
      "21\n",
      "34\n",
      "55\n",
      "89\n",
      "144\n",
      "233\n",
      "377\n",
      "610\n",
      "987\n",
      "1597\n",
      "2584\n",
      "4181\n",
      "6765\n",
      "10946\n"
     ]
    }
   ],
   "source": [
    "for n in fib\n",
    "    println(\"$n\")\n",
    "end"
   ]
  },
  {
   "cell_type": "code",
   "execution_count": 141,
   "id": "e9483995",
   "metadata": {},
   "outputs": [
    {
     "data": {
      "text/plain": [
       "5×5 Matrix{Int64}:\n",
       " 0  0  0  0  0\n",
       " 0  0  0  0  0\n",
       " 0  0  0  0  0\n",
       " 0  0  0  0  0\n",
       " 0  0  0  0  0"
      ]
     },
     "execution_count": 141,
     "metadata": {},
     "output_type": "execute_result"
    }
   ],
   "source": [
    "m,n = 5,5\n",
    "A = fill(0,(m,n))"
   ]
  },
  {
   "cell_type": "code",
   "execution_count": 142,
   "id": "772607b8",
   "metadata": {},
   "outputs": [
    {
     "data": {
      "text/plain": [
       "5×5 Matrix{Int64}:\n",
       " 2  3  4  5   6\n",
       " 3  4  5  6   7\n",
       " 4  5  6  7   8\n",
       " 5  6  7  8   9\n",
       " 6  7  8  9  10"
      ]
     },
     "execution_count": 142,
     "metadata": {},
     "output_type": "execute_result"
    }
   ],
   "source": [
    "for j in 1:n\n",
    "    for i in 1:m\n",
    "        A[i,j] = i+j\n",
    "    end\n",
    "end\n",
    "A"
   ]
  },
  {
   "cell_type": "code",
   "execution_count": 144,
   "id": "58444f15",
   "metadata": {},
   "outputs": [
    {
     "data": {
      "text/plain": [
       "5×5 Matrix{Int64}:\n",
       " 2  3  4  5   6\n",
       " 3  4  5  6   7\n",
       " 4  5  6  7   8\n",
       " 5  6  7  8   9\n",
       " 6  7  8  9  10"
      ]
     },
     "execution_count": 144,
     "metadata": {},
     "output_type": "execute_result"
    }
   ],
   "source": [
    "m,n = 5,5\n",
    "A = fill(0,(m,n))\n",
    "for j in 1:n,i in 1:m\n",
    "    A[i,j] = i+j\n",
    "end\n",
    "A"
   ]
  },
  {
   "cell_type": "code",
   "execution_count": 145,
   "id": "e8688368",
   "metadata": {},
   "outputs": [
    {
     "data": {
      "text/plain": [
       "5×5 Matrix{Int64}:\n",
       " 2  3  4  5   6\n",
       " 3  4  5  6   7\n",
       " 4  5  6  7   8\n",
       " 5  6  7  8   9\n",
       " 6  7  8  9  10"
      ]
     },
     "execution_count": 145,
     "metadata": {},
     "output_type": "execute_result"
    }
   ],
   "source": [
    "[i+j for i in 1:m,j in 1:n]"
   ]
  },
  {
   "cell_type": "markdown",
   "id": "2c1b4846",
   "metadata": {},
   "source": [
    "#### Conditionals"
   ]
  },
  {
   "cell_type": "code",
   "execution_count": 151,
   "id": "3ece2da2",
   "metadata": {},
   "outputs": [
    {
     "name": "stdout",
     "output_type": "stream",
     "text": [
      "1~1\n",
      "2~2\n",
      "3~0\n",
      "4~1\n",
      "5~2\n",
      "6~0\n",
      "7~1\n",
      "8~2\n",
      "9~0\n",
      "10~1\n"
     ]
    }
   ],
   "source": [
    "for i in 1:10\n",
    "    print(i)\n",
    "    if i%3 ==0\n",
    "        println(\"~0\")\n",
    "    elseif i%3 ==1\n",
    "        println(\"~1\")\n",
    "    else \n",
    "        println(\"~2\")\n",
    "    end\n",
    "end"
   ]
  },
  {
   "cell_type": "code",
   "execution_count": null,
   "id": "db125c0d",
   "metadata": {},
   "outputs": [],
   "source": []
  },
  {
   "cell_type": "code",
   "execution_count": 162,
   "id": "434702d1",
   "metadata": {},
   "outputs": [
    {
     "data": {
      "text/plain": [
       "10"
      ]
     },
     "execution_count": 162,
     "metadata": {},
     "output_type": "execute_result"
    }
   ],
   "source": [
    "i = 10"
   ]
  },
  {
   "cell_type": "code",
   "execution_count": 163,
   "id": "5ddb0e22",
   "metadata": {},
   "outputs": [
    {
     "data": {
      "text/plain": [
       "\"~1\""
      ]
     },
     "execution_count": 163,
     "metadata": {},
     "output_type": "execute_result"
    }
   ],
   "source": [
    "    if i%3 ==0\n",
    "        \"~0\"\n",
    "    elseif i%3 ==1\n",
    "        \"~1\"\n",
    "    else \n",
    "        \"~2\"\n",
    "    end"
   ]
  },
  {
   "cell_type": "code",
   "execution_count": 164,
   "id": "209963ba",
   "metadata": {},
   "outputs": [
    {
     "data": {
      "text/plain": [
       "\"~1\""
      ]
     },
     "execution_count": 164,
     "metadata": {},
     "output_type": "execute_result"
    }
   ],
   "source": [
    "if i%3 ==0 \"~0\" elseif i%3 ==1 \"~1\" else \"~2\"end"
   ]
  },
  {
   "cell_type": "code",
   "execution_count": 165,
   "id": "a884bbe2",
   "metadata": {},
   "outputs": [
    {
     "data": {
      "text/plain": [
       "true"
      ]
     },
     "execution_count": 165,
     "metadata": {},
     "output_type": "execute_result"
    }
   ],
   "source": [
    "1==1&&2==2"
   ]
  },
  {
   "cell_type": "code",
   "execution_count": 166,
   "id": "e7cfa8a4",
   "metadata": {},
   "outputs": [
    {
     "data": {
      "text/plain": [
       "true"
      ]
     },
     "execution_count": 166,
     "metadata": {},
     "output_type": "execute_result"
    }
   ],
   "source": [
    "1==1 || 2==2"
   ]
  },
  {
   "cell_type": "code",
   "execution_count": 171,
   "id": "2bbdb8ab",
   "metadata": {},
   "outputs": [
    {
     "name": "stdout",
     "output_type": "stream",
     "text": [
      "a:false, b:false, a&&b:false\n",
      "a:false, b:true, a&&b:false\n",
      "a:true, b:false, a&&b:false\n",
      "a:true, b:true, a&&b:true\n"
     ]
    }
   ],
   "source": [
    "for a in [false, true], b in [false,true]\n",
    "    println(\"a:$a, b:$b, a&&b:$(a&&b)\")\n",
    "end"
   ]
  },
  {
   "cell_type": "code",
   "execution_count": 172,
   "id": "6dfd86c7",
   "metadata": {},
   "outputs": [
    {
     "name": "stdout",
     "output_type": "stream",
     "text": [
      "a:false, b:false, a or b:false\n",
      "a:false, b:true, a or b:true\n",
      "a:true, b:false, a or b:true\n",
      "a:true, b:true, a or b:true\n"
     ]
    }
   ],
   "source": [
    "for a in [false, true], b in [false,true]\n",
    "    println(\"a:$a, b:$b, a or b:$(a||b)\")\n",
    "end"
   ]
  },
  {
   "cell_type": "code",
   "execution_count": 174,
   "id": "ca020e9a",
   "metadata": {},
   "outputs": [
    {
     "data": {
      "text/plain": [
       "\"abcdefg\""
      ]
     },
     "execution_count": 174,
     "metadata": {},
     "output_type": "execute_result"
    }
   ],
   "source": [
    "true && \"abcdefg\""
   ]
  },
  {
   "cell_type": "code",
   "execution_count": 179,
   "id": "281459fb",
   "metadata": {},
   "outputs": [
    {
     "name": "stdout",
     "output_type": "stream",
     "text": [
      "abcdefg"
     ]
    }
   ],
   "source": [
    "true && print(\"abcdefg\")"
   ]
  },
  {
   "cell_type": "code",
   "execution_count": 183,
   "id": "a4dec91c",
   "metadata": {},
   "outputs": [
    {
     "name": "stdout",
     "output_type": "stream",
     "text": [
      "12345678910"
     ]
    }
   ],
   "source": [
    "true && (for i in 1:10 print(i) end)"
   ]
  },
  {
   "cell_type": "code",
   "execution_count": 184,
   "id": "840aa2ca",
   "metadata": {},
   "outputs": [
    {
     "name": "stdout",
     "output_type": "stream",
     "text": [
      "1\n",
      "2\n",
      "3\n",
      "4\n",
      "5\n",
      "6\n",
      "7\n",
      "8\n",
      "9\n",
      "10\n"
     ]
    }
   ],
   "source": [
    "true && (for i in 1:10 println(i) end)"
   ]
  },
  {
   "cell_type": "code",
   "execution_count": 180,
   "id": "33e2595a",
   "metadata": {},
   "outputs": [
    {
     "data": {
      "text/plain": [
       "\"a\""
      ]
     },
     "execution_count": 180,
     "metadata": {},
     "output_type": "execute_result"
    }
   ],
   "source": [
    "true ? \"a\" : \"b\""
   ]
  },
  {
   "cell_type": "code",
   "execution_count": 181,
   "id": "283151e1",
   "metadata": {},
   "outputs": [
    {
     "data": {
      "text/plain": [
       "\"a\""
      ]
     },
     "execution_count": 181,
     "metadata": {},
     "output_type": "execute_result"
    }
   ],
   "source": [
    "(5>3) ? \"a\" : \"b\""
   ]
  },
  {
   "cell_type": "markdown",
   "id": "61f45442",
   "metadata": {},
   "source": [
    "#### Function"
   ]
  },
  {
   "cell_type": "code",
   "execution_count": 204,
   "id": "9c4b7a6f",
   "metadata": {},
   "outputs": [
    {
     "data": {
      "text/plain": [
       "hello (generic function with 1 method)"
      ]
     },
     "execution_count": 204,
     "metadata": {},
     "output_type": "execute_result"
    }
   ],
   "source": [
    "function hello(name)\n",
    "    println(\"Hello, $name\")\n",
    "end"
   ]
  },
  {
   "cell_type": "code",
   "execution_count": 205,
   "id": "3f5329d4",
   "metadata": {},
   "outputs": [
    {
     "name": "stdout",
     "output_type": "stream",
     "text": [
      "Hello, Lzc\n"
     ]
    }
   ],
   "source": [
    "hello(\"Lzc\")"
   ]
  },
  {
   "cell_type": "code",
   "execution_count": 189,
   "id": "7be459b6",
   "metadata": {},
   "outputs": [
    {
     "name": "stdout",
     "output_type": "stream",
     "text": [
      "Hello, 1234\n"
     ]
    }
   ],
   "source": [
    "hello(1234)"
   ]
  },
  {
   "cell_type": "code",
   "execution_count": 191,
   "id": "e9ad99d1",
   "metadata": {},
   "outputs": [
    {
     "name": "stdout",
     "output_type": "stream",
     "text": [
      "Hello, (a = 1, b = 2)\n"
     ]
    }
   ],
   "source": [
    "hello((a=1,b=2))"
   ]
  },
  {
   "cell_type": "code",
   "execution_count": 192,
   "id": "dc1a9ab7",
   "metadata": {},
   "outputs": [
    {
     "data": {
      "text/plain": [
       "f (generic function with 1 method)"
      ]
     },
     "execution_count": 192,
     "metadata": {},
     "output_type": "execute_result"
    }
   ],
   "source": [
    "function f(x)\n",
    "    x^2\n",
    "end"
   ]
  },
  {
   "cell_type": "code",
   "execution_count": 193,
   "id": "3c077dec",
   "metadata": {},
   "outputs": [
    {
     "data": {
      "text/plain": [
       "4.0"
      ]
     },
     "execution_count": 193,
     "metadata": {},
     "output_type": "execute_result"
    }
   ],
   "source": [
    "f(2.0) "
   ]
  },
  {
   "cell_type": "code",
   "execution_count": 199,
   "id": "c98e4bc5",
   "metadata": {},
   "outputs": [
    {
     "data": {
      "text/plain": [
       "\"aaaa\""
      ]
     },
     "execution_count": 199,
     "metadata": {},
     "output_type": "execute_result"
    }
   ],
   "source": [
    "f2(x)=x^2\n",
    "hello2(name)= println(\"hello $name\")\n",
    "f2(\"aa\")"
   ]
  },
  {
   "cell_type": "code",
   "execution_count": 200,
   "id": "238fce83",
   "metadata": {},
   "outputs": [
    {
     "name": "stdout",
     "output_type": "stream",
     "text": [
      "hello lzc\n"
     ]
    }
   ],
   "source": [
    "hello2(\"lzc\")"
   ]
  },
  {
   "cell_type": "code",
   "execution_count": 201,
   "id": "6b60c697",
   "metadata": {},
   "outputs": [
    {
     "data": {
      "text/plain": [
       "121"
      ]
     },
     "execution_count": 201,
     "metadata": {},
     "output_type": "execute_result"
    }
   ],
   "source": [
    "f2(11)"
   ]
  },
  {
   "cell_type": "code",
   "execution_count": 202,
   "id": "fdc2e65e",
   "metadata": {},
   "outputs": [
    {
     "data": {
      "text/plain": [
       "#3 (generic function with 1 method)"
      ]
     },
     "execution_count": 202,
     "metadata": {},
     "output_type": "execute_result"
    }
   ],
   "source": [
    "hello3 = name -> println(\"Hello $name\")"
   ]
  },
  {
   "cell_type": "code",
   "execution_count": 203,
   "id": "9af588f2",
   "metadata": {},
   "outputs": [
    {
     "name": "stdout",
     "output_type": "stream",
     "text": [
      "Hello lzc\n"
     ]
    }
   ],
   "source": [
    "hello3(\"lzc\")"
   ]
  },
  {
   "cell_type": "markdown",
   "id": "c6cdae61",
   "metadata": {},
   "source": [
    "##### Duck-typing"
   ]
  },
  {
   "cell_type": "code",
   "execution_count": 207,
   "id": "0f73842d",
   "metadata": {},
   "outputs": [
    {
     "data": {
      "text/plain": [
       "\"lzclzc\""
      ]
     },
     "execution_count": 207,
     "metadata": {},
     "output_type": "execute_result"
    }
   ],
   "source": [
    "f2(\"lzc\")"
   ]
  },
  {
   "cell_type": "code",
   "execution_count": 208,
   "id": "ff99527a",
   "metadata": {},
   "outputs": [
    {
     "data": {
      "text/plain": [
       "200"
      ]
     },
     "execution_count": 208,
     "metadata": {},
     "output_type": "execute_result"
    }
   ],
   "source": [
    "f3(x) = x*2\n",
    "f3(100)"
   ]
  },
  {
   "cell_type": "code",
   "execution_count": 209,
   "id": "83a0d0a1",
   "metadata": {},
   "outputs": [
    {
     "ename": "LoadError",
     "evalue": "MethodError: no method matching *(::String, ::Int64)\n\u001b[0mClosest candidates are:\n\u001b[0m  *(::Any, ::Any, \u001b[91m::Any\u001b[39m, \u001b[91m::Any...\u001b[39m) at operators.jl:591\n\u001b[0m  *(\u001b[91m::T\u001b[39m, ::T) where T<:Union{Int128, Int16, Int32, Int64, Int8, UInt128, UInt16, UInt32, UInt64, UInt8} at int.jl:88\n\u001b[0m  *(::Union{AbstractChar, AbstractString}, \u001b[91m::Union{AbstractChar, AbstractString}...\u001b[39m) at strings/basic.jl:260\n\u001b[0m  ...",
     "output_type": "error",
     "traceback": [
      "MethodError: no method matching *(::String, ::Int64)\n\u001b[0mClosest candidates are:\n\u001b[0m  *(::Any, ::Any, \u001b[91m::Any\u001b[39m, \u001b[91m::Any...\u001b[39m) at operators.jl:591\n\u001b[0m  *(\u001b[91m::T\u001b[39m, ::T) where T<:Union{Int128, Int16, Int32, Int64, Int8, UInt128, UInt16, UInt32, UInt64, UInt8} at int.jl:88\n\u001b[0m  *(::Union{AbstractChar, AbstractString}, \u001b[91m::Union{AbstractChar, AbstractString}...\u001b[39m) at strings/basic.jl:260\n\u001b[0m  ...",
      "",
      "Stacktrace:",
      " [1] f3(x::String)",
      "   @ Main ./In[208]:1",
      " [2] top-level scope",
      "   @ In[209]:1",
      " [3] eval",
      "   @ ./boot.jl:368 [inlined]",
      " [4] include_string(mapexpr::typeof(REPL.softscope), mod::Module, code::String, filename::String)",
      "   @ Base ./loading.jl:1428"
     ]
    }
   ],
   "source": [
    "f3(\"aaa\")"
   ]
  },
  {
   "cell_type": "code",
   "execution_count": 211,
   "id": "7b7920a1",
   "metadata": {},
   "outputs": [
    {
     "data": {
      "text/plain": [
       "3-element Vector{Float64}:\n",
       " 0.13849601428566394\n",
       " 0.24425863976938678\n",
       " 0.8743862433446508"
      ]
     },
     "execution_count": 211,
     "metadata": {},
     "output_type": "execute_result"
    }
   ],
   "source": [
    "v = rand(3)"
   ]
  },
  {
   "cell_type": "code",
   "execution_count": 213,
   "id": "4de783b7",
   "metadata": {},
   "outputs": [
    {
     "data": {
      "text/plain": [
       "3-element Vector{Float64}:\n",
       " 0.2769920285713279\n",
       " 0.48851727953877355\n",
       " 1.7487724866893015"
      ]
     },
     "execution_count": 213,
     "metadata": {},
     "output_type": "execute_result"
    }
   ],
   "source": [
    "f3(v)"
   ]
  },
  {
   "cell_type": "code",
   "execution_count": 215,
   "id": "6503942b",
   "metadata": {},
   "outputs": [],
   "source": [
    "# @doc f3(v)"
   ]
  },
  {
   "cell_type": "markdown",
   "id": "58f64a90",
   "metadata": {},
   "source": [
    "##### Mutating"
   ]
  },
  {
   "cell_type": "code",
   "execution_count": 221,
   "id": "167d368f",
   "metadata": {},
   "outputs": [
    {
     "data": {
      "text/plain": [
       "5-element Vector{Int64}:\n",
       " 3\n",
       " 7\n",
       " 6\n",
       " 5\n",
       " 2"
      ]
     },
     "execution_count": 221,
     "metadata": {},
     "output_type": "execute_result"
    }
   ],
   "source": [
    "v = [3,7,6,5,2]"
   ]
  },
  {
   "cell_type": "code",
   "execution_count": 222,
   "id": "6f32dacd",
   "metadata": {},
   "outputs": [
    {
     "data": {
      "text/plain": [
       "5-element Vector{Int64}:\n",
       " 2\n",
       " 3\n",
       " 5\n",
       " 6\n",
       " 7"
      ]
     },
     "execution_count": 222,
     "metadata": {},
     "output_type": "execute_result"
    }
   ],
   "source": [
    "sort(v)"
   ]
  },
  {
   "cell_type": "code",
   "execution_count": 223,
   "id": "50e46a20",
   "metadata": {},
   "outputs": [
    {
     "data": {
      "text/plain": [
       "5-element Vector{Int64}:\n",
       " 3\n",
       " 7\n",
       " 6\n",
       " 5\n",
       " 2"
      ]
     },
     "execution_count": 223,
     "metadata": {},
     "output_type": "execute_result"
    }
   ],
   "source": [
    "v"
   ]
  },
  {
   "cell_type": "code",
   "execution_count": 226,
   "id": "0211af1e",
   "metadata": {},
   "outputs": [
    {
     "data": {
      "text/plain": [
       "5-element Vector{Int64}:\n",
       " 2\n",
       " 3\n",
       " 5\n",
       " 6\n",
       " 7"
      ]
     },
     "execution_count": 226,
     "metadata": {},
     "output_type": "execute_result"
    }
   ],
   "source": [
    "sort!(v) # will save "
   ]
  },
  {
   "cell_type": "code",
   "execution_count": 227,
   "id": "cc6f6641",
   "metadata": {},
   "outputs": [
    {
     "data": {
      "text/plain": [
       "5-element Vector{Int64}:\n",
       " 2\n",
       " 3\n",
       " 5\n",
       " 6\n",
       " 7"
      ]
     },
     "execution_count": 227,
     "metadata": {},
     "output_type": "execute_result"
    }
   ],
   "source": [
    "v"
   ]
  },
  {
   "cell_type": "markdown",
   "id": "1878c214",
   "metadata": {},
   "source": [
    "##### Higher Order Function "
   ]
  },
  {
   "cell_type": "code",
   "execution_count": 229,
   "id": "e59c1a49",
   "metadata": {},
   "outputs": [
    {
     "data": {
      "text/plain": [
       "4-element Vector{Int64}:\n",
       "  1\n",
       "  4\n",
       "  9\n",
       " 16"
      ]
     },
     "execution_count": 229,
     "metadata": {},
     "output_type": "execute_result"
    }
   ],
   "source": [
    "map(f,[1,2,3,4])"
   ]
  },
  {
   "cell_type": "code",
   "execution_count": 231,
   "id": "79a95a53",
   "metadata": {},
   "outputs": [
    {
     "data": {
      "text/plain": [
       "10-element Vector{Int64}:\n",
       " 1\n",
       " 2\n",
       " 0\n",
       " 1\n",
       " 2\n",
       " 0\n",
       " 1\n",
       " 2\n",
       " 0\n",
       " 1"
      ]
     },
     "execution_count": 231,
     "metadata": {},
     "output_type": "execute_result"
    }
   ],
   "source": [
    "map(x -> x%3,1:10)"
   ]
  },
  {
   "cell_type": "code",
   "execution_count": 232,
   "id": "6a904f61",
   "metadata": {},
   "outputs": [
    {
     "data": {
      "text/plain": [
       "10-element Vector{Int64}:\n",
       "   1\n",
       "   4\n",
       "   9\n",
       "  16\n",
       "  25\n",
       "  36\n",
       "  49\n",
       "  64\n",
       "  81\n",
       " 100"
      ]
     },
     "execution_count": 232,
     "metadata": {},
     "output_type": "execute_result"
    }
   ],
   "source": [
    " map(x -> x^2,1:10)"
   ]
  },
  {
   "cell_type": "code",
   "execution_count": 233,
   "id": "e0b4a69d",
   "metadata": {},
   "outputs": [
    {
     "data": {
      "text/plain": [
       "3-element Vector{Int64}:\n",
       " 1\n",
       " 4\n",
       " 9"
      ]
     },
     "execution_count": 233,
     "metadata": {},
     "output_type": "execute_result"
    }
   ],
   "source": [
    "broadcast(f,[1,2,3])"
   ]
  },
  {
   "cell_type": "code",
   "execution_count": 234,
   "id": "5cf6b08c",
   "metadata": {},
   "outputs": [
    {
     "data": {
      "text/plain": [
       "3-element Vector{Int64}:\n",
       "  1\n",
       "  9\n",
       " 16"
      ]
     },
     "execution_count": 234,
     "metadata": {},
     "output_type": "execute_result"
    }
   ],
   "source": [
    "f.([1,3,4])"
   ]
  },
  {
   "cell_type": "code",
   "execution_count": 238,
   "id": "b5e3be1c",
   "metadata": {},
   "outputs": [
    {
     "data": {
      "text/plain": [
       "3×3 Matrix{Int64}:\n",
       " 0  2   4\n",
       " 3  5   7\n",
       " 6  8  10"
      ]
     },
     "execution_count": 238,
     "metadata": {},
     "output_type": "execute_result"
    }
   ],
   "source": [
    "A = [i*2+3*j for j in 0:2, i in 0:2]"
   ]
  },
  {
   "cell_type": "code",
   "execution_count": 239,
   "id": "1f101b51",
   "metadata": {},
   "outputs": [
    {
     "data": {
      "text/plain": [
       "3×3 Matrix{Int64}:\n",
       " 30   42   54\n",
       " 57   87  117\n",
       " 84  132  180"
      ]
     },
     "execution_count": 239,
     "metadata": {},
     "output_type": "execute_result"
    }
   ],
   "source": [
    "A^2"
   ]
  },
  {
   "cell_type": "code",
   "execution_count": 241,
   "id": "12fe0c01",
   "metadata": {},
   "outputs": [
    {
     "data": {
      "text/plain": [
       "3×3 Matrix{Int64}:\n",
       "  450   702   954\n",
       "  963  1485  2007\n",
       " 1476  2268  3060"
      ]
     },
     "execution_count": 241,
     "metadata": {},
     "output_type": "execute_result"
    }
   ],
   "source": [
    "A^3"
   ]
  },
  {
   "cell_type": "code",
   "execution_count": 242,
   "id": "f97c90d2",
   "metadata": {},
   "outputs": [
    {
     "data": {
      "text/plain": [
       "3×3 Matrix{Int64}:\n",
       "  0   4   8\n",
       "  6  10  14\n",
       " 12  16  20"
      ]
     },
     "execution_count": 242,
     "metadata": {},
     "output_type": "execute_result"
    }
   ],
   "source": [
    "A*2"
   ]
  },
  {
   "cell_type": "code",
   "execution_count": 245,
   "id": "49a266c6",
   "metadata": {},
   "outputs": [
    {
     "data": {
      "text/plain": [
       "3×3 Matrix{Int64}:\n",
       "  2  12   30\n",
       " 20  42   72\n",
       " 56  90  132"
      ]
     },
     "execution_count": 245,
     "metadata": {},
     "output_type": "execute_result"
    }
   ],
   "source": [
    "(3 .* A).+2 + A.^2"
   ]
  },
  {
   "cell_type": "code",
   "execution_count": 246,
   "id": "7b0029a6",
   "metadata": {},
   "outputs": [
    {
     "data": {
      "text/plain": [
       "3×3 Matrix{Int64}:\n",
       "  2  12   30\n",
       " 20  42   72\n",
       " 56  90  132"
      ]
     },
     "execution_count": 246,
     "metadata": {},
     "output_type": "execute_result"
    }
   ],
   "source": [
    "3 .* A.+2 + A.^2"
   ]
  },
  {
   "cell_type": "code",
   "execution_count": 247,
   "id": "2da2608f",
   "metadata": {},
   "outputs": [
    {
     "data": {
      "text/plain": [
       "3×3 Matrix{Int64}:\n",
       "  2  12   30\n",
       " 20  42   72\n",
       " 56  90  132"
      ]
     },
     "execution_count": 247,
     "metadata": {},
     "output_type": "execute_result"
    }
   ],
   "source": [
    "broadcast(x->3*x+2+x^2,A)"
   ]
  },
  {
   "cell_type": "code",
   "execution_count": 250,
   "id": "79d0aefa",
   "metadata": {},
   "outputs": [
    {
     "data": {
      "text/plain": [
       "3×3 Matrix{Int64}:\n",
       "  2  12   30\n",
       " 20  42   72\n",
       " 56  90  132"
      ]
     },
     "execution_count": 250,
     "metadata": {},
     "output_type": "execute_result"
    }
   ],
   "source": [
    "(x->3*x+2+x^2).(A)"
   ]
  },
  {
   "cell_type": "markdown",
   "id": "8d2df897",
   "metadata": {},
   "source": [
    "#### Importing packages"
   ]
  },
  {
   "cell_type": "code",
   "execution_count": 259,
   "id": "f954583f",
   "metadata": {},
   "outputs": [],
   "source": [
    "import LinearAlgebra"
   ]
  },
  {
   "cell_type": "code",
   "execution_count": 260,
   "id": "b258bf03",
   "metadata": {},
   "outputs": [
    {
     "data": {
      "text/plain": [
       "5×5 Diagonal{Bool, Vector{Bool}}:\n",
       " 1  ⋅  ⋅  ⋅  ⋅\n",
       " ⋅  1  ⋅  ⋅  ⋅\n",
       " ⋅  ⋅  1  ⋅  ⋅\n",
       " ⋅  ⋅  ⋅  1  ⋅\n",
       " ⋅  ⋅  ⋅  ⋅  1"
      ]
     },
     "execution_count": 260,
     "metadata": {},
     "output_type": "execute_result"
    }
   ],
   "source": [
    "LinearAlgebra.I(5)"
   ]
  },
  {
   "cell_type": "code",
   "execution_count": 261,
   "id": "6d3ed39b",
   "metadata": {},
   "outputs": [],
   "source": [
    "using LinearAlgebra"
   ]
  },
  {
   "cell_type": "code",
   "execution_count": 262,
   "id": "962ea8d1",
   "metadata": {},
   "outputs": [
    {
     "data": {
      "text/plain": [
       "UniformScaling{Bool}\n",
       "true*I"
      ]
     },
     "execution_count": 262,
     "metadata": {},
     "output_type": "execute_result"
    }
   ],
   "source": [
    "I"
   ]
  },
  {
   "cell_type": "code",
   "execution_count": 263,
   "id": "929cdbc7",
   "metadata": {},
   "outputs": [
    {
     "data": {
      "text/plain": [
       "17×17 Diagonal{Bool, Vector{Bool}}:\n",
       " 1  ⋅  ⋅  ⋅  ⋅  ⋅  ⋅  ⋅  ⋅  ⋅  ⋅  ⋅  ⋅  ⋅  ⋅  ⋅  ⋅\n",
       " ⋅  1  ⋅  ⋅  ⋅  ⋅  ⋅  ⋅  ⋅  ⋅  ⋅  ⋅  ⋅  ⋅  ⋅  ⋅  ⋅\n",
       " ⋅  ⋅  1  ⋅  ⋅  ⋅  ⋅  ⋅  ⋅  ⋅  ⋅  ⋅  ⋅  ⋅  ⋅  ⋅  ⋅\n",
       " ⋅  ⋅  ⋅  1  ⋅  ⋅  ⋅  ⋅  ⋅  ⋅  ⋅  ⋅  ⋅  ⋅  ⋅  ⋅  ⋅\n",
       " ⋅  ⋅  ⋅  ⋅  1  ⋅  ⋅  ⋅  ⋅  ⋅  ⋅  ⋅  ⋅  ⋅  ⋅  ⋅  ⋅\n",
       " ⋅  ⋅  ⋅  ⋅  ⋅  1  ⋅  ⋅  ⋅  ⋅  ⋅  ⋅  ⋅  ⋅  ⋅  ⋅  ⋅\n",
       " ⋅  ⋅  ⋅  ⋅  ⋅  ⋅  1  ⋅  ⋅  ⋅  ⋅  ⋅  ⋅  ⋅  ⋅  ⋅  ⋅\n",
       " ⋅  ⋅  ⋅  ⋅  ⋅  ⋅  ⋅  1  ⋅  ⋅  ⋅  ⋅  ⋅  ⋅  ⋅  ⋅  ⋅\n",
       " ⋅  ⋅  ⋅  ⋅  ⋅  ⋅  ⋅  ⋅  1  ⋅  ⋅  ⋅  ⋅  ⋅  ⋅  ⋅  ⋅\n",
       " ⋅  ⋅  ⋅  ⋅  ⋅  ⋅  ⋅  ⋅  ⋅  1  ⋅  ⋅  ⋅  ⋅  ⋅  ⋅  ⋅\n",
       " ⋅  ⋅  ⋅  ⋅  ⋅  ⋅  ⋅  ⋅  ⋅  ⋅  1  ⋅  ⋅  ⋅  ⋅  ⋅  ⋅\n",
       " ⋅  ⋅  ⋅  ⋅  ⋅  ⋅  ⋅  ⋅  ⋅  ⋅  ⋅  1  ⋅  ⋅  ⋅  ⋅  ⋅\n",
       " ⋅  ⋅  ⋅  ⋅  ⋅  ⋅  ⋅  ⋅  ⋅  ⋅  ⋅  ⋅  1  ⋅  ⋅  ⋅  ⋅\n",
       " ⋅  ⋅  ⋅  ⋅  ⋅  ⋅  ⋅  ⋅  ⋅  ⋅  ⋅  ⋅  ⋅  1  ⋅  ⋅  ⋅\n",
       " ⋅  ⋅  ⋅  ⋅  ⋅  ⋅  ⋅  ⋅  ⋅  ⋅  ⋅  ⋅  ⋅  ⋅  1  ⋅  ⋅\n",
       " ⋅  ⋅  ⋅  ⋅  ⋅  ⋅  ⋅  ⋅  ⋅  ⋅  ⋅  ⋅  ⋅  ⋅  ⋅  1  ⋅\n",
       " ⋅  ⋅  ⋅  ⋅  ⋅  ⋅  ⋅  ⋅  ⋅  ⋅  ⋅  ⋅  ⋅  ⋅  ⋅  ⋅  1"
      ]
     },
     "execution_count": 263,
     "metadata": {},
     "output_type": "execute_result"
    }
   ],
   "source": [
    "I(17)"
   ]
  },
  {
   "cell_type": "code",
   "execution_count": 264,
   "id": "34f13a6e",
   "metadata": {},
   "outputs": [
    {
     "name": "stderr",
     "output_type": "stream",
     "text": [
      "\u001b[32m\u001b[1m    Updating\u001b[22m\u001b[39m registry at `~/.julia/registries/General.toml`\n",
      "\u001b[32m\u001b[1m   Resolving\u001b[22m\u001b[39m package versions...\n",
      "\u001b[32m\u001b[1m   Installed\u001b[22m\u001b[39m Example ─ v0.5.3\n",
      "\u001b[32m\u001b[1m    Updating\u001b[22m\u001b[39m `~/.julia/environments/v1.8/Project.toml`\n",
      " \u001b[90m [7876af07] \u001b[39m\u001b[92m+ Example v0.5.3\u001b[39m\n",
      "\u001b[32m\u001b[1m    Updating\u001b[22m\u001b[39m `~/.julia/environments/v1.8/Manifest.toml`\n",
      " \u001b[90m [7876af07] \u001b[39m\u001b[92m+ Example v0.5.3\u001b[39m\n",
      "\u001b[32m\u001b[1mPrecompiling\u001b[22m\u001b[39m project...\n",
      "\u001b[32m  ✓ \u001b[39mExample\n",
      "  1 dependency successfully precompiled in 1 seconds. 16 already precompiled.\n"
     ]
    }
   ],
   "source": [
    "using Pkg\n",
    "Pkg.add(\"Example\")"
   ]
  },
  {
   "cell_type": "code",
   "execution_count": 265,
   "id": "546f5067",
   "metadata": {},
   "outputs": [
    {
     "name": "stderr",
     "output_type": "stream",
     "text": [
      "WARNING: using Example.hello in module Main conflicts with an existing identifier.\n"
     ]
    }
   ],
   "source": [
    "using Example"
   ]
  },
  {
   "cell_type": "code",
   "execution_count": 266,
   "id": "8ea96111",
   "metadata": {},
   "outputs": [
    {
     "data": {
      "text/plain": [
       "\"Hello, Julia\""
      ]
     },
     "execution_count": 266,
     "metadata": {},
     "output_type": "execute_result"
    }
   ],
   "source": [
    "Example.hello(\"Julia\")"
   ]
  },
  {
   "cell_type": "code",
   "execution_count": 277,
   "id": "8a1d7197",
   "metadata": {},
   "outputs": [
    {
     "ename": "LoadError",
     "evalue": "ArgumentError: Package PyCall not found in current path.\n- Run `import Pkg; Pkg.add(\"PyCall\")` to install the PyCall package.",
     "output_type": "error",
     "traceback": [
      "ArgumentError: Package PyCall not found in current path.\n- Run `import Pkg; Pkg.add(\"PyCall\")` to install the PyCall package.",
      "",
      "Stacktrace:",
      " [1] macro expansion",
      "   @ ./loading.jl:1163 [inlined]",
      " [2] macro expansion",
      "   @ ./lock.jl:223 [inlined]",
      " [3] require(into::Module, mod::Symbol)",
      "   @ Base ./loading.jl:1144",
      " [4] eval",
      "   @ ./boot.jl:368 [inlined]",
      " [5] include_string(mapexpr::typeof(REPL.softscope), mod::Module, code::String, filename::String)",
      "   @ Base ./loading.jl:1428"
     ]
    }
   ],
   "source": [
    "using PyCall"
   ]
  },
  {
   "cell_type": "code",
   "execution_count": 278,
   "id": "687246da",
   "metadata": {},
   "outputs": [
    {
     "ename": "LoadError",
     "evalue": "UndefVarError: pyimport not defined",
     "output_type": "error",
     "traceback": [
      "UndefVarError: pyimport not defined",
      "",
      "Stacktrace:",
      " [1] top-level scope",
      "   @ In[278]:1",
      " [2] eval",
      "   @ ./boot.jl:368 [inlined]",
      " [3] include_string(mapexpr::typeof(REPL.softscope), mod::Module, code::String, filename::String)",
      "   @ Base ./loading.jl:1428"
     ]
    }
   ],
   "source": [
    "math = pyimport(\"math\")"
   ]
  },
  {
   "cell_type": "code",
   "execution_count": 279,
   "id": "cc2579fb",
   "metadata": {},
   "outputs": [
    {
     "ename": "LoadError",
     "evalue": "UndefVarError: math not defined",
     "output_type": "error",
     "traceback": [
      "UndefVarError: math not defined",
      "",
      "Stacktrace:",
      " [1] top-level scope",
      "   @ In[279]:1",
      " [2] eval",
      "   @ ./boot.jl:368 [inlined]",
      " [3] include_string(mapexpr::typeof(REPL.softscope), mod::Module, code::String, filename::String)",
      "   @ Base ./loading.jl:1428"
     ]
    }
   ],
   "source": [
    "math.sin"
   ]
  },
  {
   "cell_type": "code",
   "execution_count": 280,
   "id": "9aa91ede",
   "metadata": {},
   "outputs": [
    {
     "ename": "LoadError",
     "evalue": "UndefVarError: math not defined",
     "output_type": "error",
     "traceback": [
      "UndefVarError: math not defined",
      "",
      "Stacktrace:",
      " [1] top-level scope",
      "   @ In[280]:1",
      " [2] eval",
      "   @ ./boot.jl:368 [inlined]",
      " [3] include_string(mapexpr::typeof(REPL.softscope), mod::Module, code::String, filename::String)",
      "   @ Base ./loading.jl:1428"
     ]
    }
   ],
   "source": [
    "math.pi"
   ]
  },
  {
   "cell_type": "code",
   "execution_count": 282,
   "id": "89dc0339",
   "metadata": {},
   "outputs": [],
   "source": [
    "#np = pyimport(\"numpy\")"
   ]
  },
  {
   "cell_type": "code",
   "execution_count": 284,
   "id": "dc892e78",
   "metadata": {},
   "outputs": [],
   "source": [
    "#ENV set python path"
   ]
  },
  {
   "cell_type": "code",
   "execution_count": null,
   "id": "bcd18431",
   "metadata": {},
   "outputs": [],
   "source": []
  }
 ],
 "metadata": {
  "kernelspec": {
   "display_name": "Julia 1.8.2",
   "language": "julia",
   "name": "julia-1.8"
  },
  "language_info": {
   "file_extension": ".jl",
   "mimetype": "application/julia",
   "name": "julia",
   "version": "1.8.2"
  },
  "toc": {
   "base_numbering": 1,
   "nav_menu": {},
   "number_sections": true,
   "sideBar": true,
   "skip_h1_title": false,
   "title_cell": "Table of Contents",
   "title_sidebar": "Contents",
   "toc_cell": false,
   "toc_position": {},
   "toc_section_display": true,
   "toc_window_display": false
  }
 },
 "nbformat": 4,
 "nbformat_minor": 5
}
